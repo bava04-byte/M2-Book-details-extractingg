{
  "nbformat": 4,
  "nbformat_minor": 0,
  "metadata": {
    "colab": {
      "provenance": []
    },
    "kernelspec": {
      "name": "python3",
      "display_name": "Python 3"
    },
    "language_info": {
      "name": "python"
    }
  },
  "cells": [
    {
      "cell_type": "code",
      "execution_count": null,
      "metadata": {
        "colab": {
          "base_uri": "https://localhost:8080/"
        },
        "id": "OY1uc6c9kAWt",
        "outputId": "b0e0afd9-5413-4592-c106-1a989810831f"
      },
      "outputs": [
        {
          "output_type": "stream",
          "name": "stdout",
          "text": [
            "Enter the URL of the book: https://books.toscrape.com/catalogue/set-me-free_988/index.html\n",
            "\n",
            "Fetching book details...\n",
            "\n",
            "Book Details:\n",
            "Title: Set Me Free\n",
            "Author: Not Available\n",
            "Price: Â£17.46\n",
            "Reviews: Five\n"
          ]
        }
      ],
      "source": [
        "import requests\n",
        "from bs4 import BeautifulSoup\n",
        "\n",
        "def scrape_book_details(url):\n",
        "    headers = {\n",
        "        'User-Agent': 'Mozilla/5.0 (Windows NT 10.0; Win64; x64) AppleWebKit/537.36 (KHTML, like Gecko) Chrome/91.0.4472.124 Safari/537.36'\n",
        "    }\n",
        "\n",
        "    try:\n",
        "        # Send HTTP request to fetch the webpage content\n",
        "        response = requests.get(url, headers=headers)\n",
        "        response.raise_for_status()\n",
        "        soup = BeautifulSoup(response.text, 'html.parser')\n",
        "\n",
        "        # Extract book details\n",
        "        title = soup.find('h1').get_text(strip=True)\n",
        "        author = soup.find('a', {'href': lambda x: x and 'author' in x}).get_text(strip=True) if soup.find('a', {'href': lambda x: x and 'author' in x}) else \"Not Available\"\n",
        "        price = soup.find('p', class_='price_color').get_text(strip=True)\n",
        "        reviews = soup.find('p', class_='star-rating')['class'][1] if soup.find('p', class_='star-rating') else \"No Rating\"\n",
        "\n",
        "        # Return book details\n",
        "        return {\n",
        "            'Title': title,\n",
        "            'Author': author,\n",
        "            'Price': price,\n",
        "            'Reviews': reviews\n",
        "        }\n",
        "    except Exception as e:\n",
        "        print(f\"Error fetching details: {e}\")\n",
        "        return None\n",
        "\n",
        "if __name__ == \"__main__\":\n",
        "    # Ask user to input the book URL\n",
        "    book_url = input(\"Enter the URL of the book: \")\n",
        "\n",
        "    print(\"\\nFetching book details...\")\n",
        "    book_details = scrape_book_details(book_url)\n",
        "\n",
        "    if book_details:\n",
        "        print(\"\\nBook Details:\")\n",
        "        for key, value in book_details.items():\n",
        "            print(f\"{key}: {value}\")"
      ]
    }
  ]
}